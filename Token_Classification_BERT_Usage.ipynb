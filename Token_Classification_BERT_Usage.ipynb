{
 "cells": [
  {
   "cell_type": "code",
   "execution_count": 1,
   "metadata": {},
   "outputs": [],
   "source": [
    "from transformers import AutoTokenizer, AutoModelForTokenClassification\n",
    "import pandas as pd\n",
    "from datasets import Dataset, DatasetDict, Features, ClassLabel, Sequence, Value\n",
    "import json\n",
    "import numpy as np\n",
    "from pathlib import Path\n",
    "from sklearn.model_selection import train_test_split\n",
    "import torch\n",
    "import torch.nn as nn\n",
    "from transformers import AutoTokenizer, AutoModelForTokenClassification\n",
    "from seqeval.scheme import IOB2"
   ]
  },
  {
   "cell_type": "code",
   "execution_count": 2,
   "metadata": {},
   "outputs": [
    {
     "name": "stderr",
     "output_type": "stream",
     "text": [
      "d:\\Startup\\Codes and Script\\venv\\Lib\\site-packages\\huggingface_hub\\file_download.py:1132: FutureWarning: `resume_download` is deprecated and will be removed in version 1.0.0. Downloads always resume when possible. If you want to force a new download, use `force_download=True`.\n",
      "  warnings.warn(\n"
     ]
    }
   ],
   "source": [
    "tokenizer = AutoTokenizer.from_pretrained(\"bert-base-cased\")\n",
    "model = AutoModelForTokenClassification.from_pretrained(r\"checkpoint-2910\")\n",
    "label_map = {'O': 0, 'B-object': 1, 'I-quality': 2, 'B-quality': 3, 'I-object': 4, 'B-value': 5, 'I-value': 6, 'B-property': 7, 'I-property': 8, 'B-OP': 9, 'I-OP':10}  # Adjust as necessary"
   ]
  },
  {
   "cell_type": "code",
   "execution_count": 3,
   "metadata": {},
   "outputs": [],
   "source": [
    "def tokenize_input(text, tokenizer):\n",
    "    return tokenizer(text, truncation=True, padding=\"max_length\", max_length=512, return_tensors=\"pt\")\n",
    "\n",
    "def predict_tags(text, tokenizer, model, label_map):\n",
    "    encoded_input = tokenize_input(text, tokenizer)\n",
    "\n",
    "    input_ids = encoded_input['input_ids'].to(model.device)\n",
    "    attention_mask = encoded_input['attention_mask'].to(model.device)\n",
    "\n",
    "    with torch.no_grad():\n",
    "        output = model(input_ids, attention_mask=attention_mask)\n",
    "        logits = output.logits\n",
    "        predictions = torch.argmax(logits, dim=-1)\n",
    "\n",
    "    word_predictions = []\n",
    "    word_ids = encoded_input.word_ids(batch_index=0)\n",
    "    for i, word_id in enumerate(word_ids):\n",
    "        if word_id is not None and word_id != -1:  # Ignore special tokens and out-of-range\n",
    "            predicted_tag = list(label_map.keys())[list(label_map.values()).index(predictions[0, i].item())]\n",
    "            decoded_word = tokenizer.decode([input_ids[0, i]], skip_special_tokens=True, clean_up_tokenization_spaces=True)\n",
    "            word_predictions.append((decoded_word, predicted_tag))\n",
    "\n",
    "    return word_predictions\n"
   ]
  },
  {
   "cell_type": "code",
   "execution_count": 4,
   "metadata": {},
   "outputs": [
    {
     "name": "stdout",
     "output_type": "stream",
     "text": [
      "[('The', 'O'), ('height', 'B-property'), ('of', 'O'), ('door', 'B-object'), ('knob', 'I-object'), ('should', 'O'), ('be', 'O'), ('less', 'B-OP'), ('than', 'I-OP'), ('1', 'B-value'), ('meters', 'I-value'), ('from', 'I-quality'), ('the', 'I-quality'), ('ground', 'I-quality'), ('.', 'O')]\n"
     ]
    }
   ],
   "source": [
    "input_text = \"The height of door knob should be less than 1 meters from the ground.\"\n",
    "predicted_tags = predict_tags(input_text, tokenizer, model, label_map)\n",
    "print(predicted_tags)"
   ]
  }
 ],
 "metadata": {
  "kernelspec": {
   "display_name": "venv",
   "language": "python",
   "name": "python3"
  },
  "language_info": {
   "codemirror_mode": {
    "name": "ipython",
    "version": 3
   },
   "file_extension": ".py",
   "mimetype": "text/x-python",
   "name": "python",
   "nbconvert_exporter": "python",
   "pygments_lexer": "ipython3",
   "version": "3.12.5"
  }
 },
 "nbformat": 4,
 "nbformat_minor": 2
}
